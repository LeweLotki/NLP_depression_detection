{
 "cells": [
  {
   "cell_type": "markdown",
   "id": "603e1269",
   "metadata": {},
   "source": [
    "# AI chatbot for depression detection"
   ]
  },
  {
   "cell_type": "markdown",
   "id": "ea2ebdaf",
   "metadata": {},
   "source": [
    "### Importing modules"
   ]
  },
  {
   "cell_type": "code",
   "execution_count": 1,
   "id": "e2789926",
   "metadata": {},
   "outputs": [],
   "source": [
    "import tensorflow as tf\n",
    "import pandas as pd\n",
    "import matplotlib.pyplot as plt\n",
    "import numpy as np\n",
    "import sklearn as sk\n",
    "import seaborn as sns"
   ]
  },
  {
   "cell_type": "markdown",
   "id": "1dcd00af",
   "metadata": {},
   "source": [
    "### Gathering data"
   ]
  },
  {
   "cell_type": "code",
   "execution_count": 2,
   "id": "326ae3d3",
   "metadata": {},
   "outputs": [],
   "source": [
    "df = pd.read_csv('data.csv')\n",
    "# Standarize columns names\n",
    "df = df.rename(columns={'clean_text': 'text', 'is_depression':'label'})"
   ]
  },
  {
   "cell_type": "code",
   "execution_count": 3,
   "id": "4379e4df",
   "metadata": {},
   "outputs": [
    {
     "data": {
      "text/html": [
       "<div>\n",
       "<style scoped>\n",
       "    .dataframe tbody tr th:only-of-type {\n",
       "        vertical-align: middle;\n",
       "    }\n",
       "\n",
       "    .dataframe tbody tr th {\n",
       "        vertical-align: top;\n",
       "    }\n",
       "\n",
       "    .dataframe thead th {\n",
       "        text-align: right;\n",
       "    }\n",
       "</style>\n",
       "<table border=\"1\" class=\"dataframe\">\n",
       "  <thead>\n",
       "    <tr style=\"text-align: right;\">\n",
       "      <th></th>\n",
       "      <th>text</th>\n",
       "      <th>label</th>\n",
       "    </tr>\n",
       "  </thead>\n",
       "  <tbody>\n",
       "    <tr>\n",
       "      <th>0</th>\n",
       "      <td>we understand that most people who reply immed...</td>\n",
       "      <td>1</td>\n",
       "    </tr>\n",
       "    <tr>\n",
       "      <th>1</th>\n",
       "      <td>welcome to r depression s check in post a plac...</td>\n",
       "      <td>1</td>\n",
       "    </tr>\n",
       "    <tr>\n",
       "      <th>2</th>\n",
       "      <td>anyone else instead of sleeping more when depr...</td>\n",
       "      <td>1</td>\n",
       "    </tr>\n",
       "    <tr>\n",
       "      <th>3</th>\n",
       "      <td>i ve kind of stuffed around a lot in my life d...</td>\n",
       "      <td>1</td>\n",
       "    </tr>\n",
       "    <tr>\n",
       "      <th>4</th>\n",
       "      <td>sleep is my greatest and most comforting escap...</td>\n",
       "      <td>1</td>\n",
       "    </tr>\n",
       "  </tbody>\n",
       "</table>\n",
       "</div>"
      ],
      "text/plain": [
       "                                                text  label\n",
       "0  we understand that most people who reply immed...      1\n",
       "1  welcome to r depression s check in post a plac...      1\n",
       "2  anyone else instead of sleeping more when depr...      1\n",
       "3  i ve kind of stuffed around a lot in my life d...      1\n",
       "4  sleep is my greatest and most comforting escap...      1"
      ]
     },
     "execution_count": 3,
     "metadata": {},
     "output_type": "execute_result"
    }
   ],
   "source": [
    "df.head()"
   ]
  },
  {
   "cell_type": "code",
   "execution_count": 4,
   "id": "1c13f34d",
   "metadata": {},
   "outputs": [
    {
     "data": {
      "text/plain": [
       "(7731, 2)"
      ]
     },
     "execution_count": 4,
     "metadata": {},
     "output_type": "execute_result"
    }
   ],
   "source": [
    "df.shape"
   ]
  },
  {
   "cell_type": "markdown",
   "id": "535cfb0c",
   "metadata": {},
   "source": [
    "### Preprocessing and tokenizing data"
   ]
  },
  {
   "cell_type": "code",
   "execution_count": 5,
   "id": "5594b157",
   "metadata": {},
   "outputs": [
    {
     "name": "stderr",
     "output_type": "stream",
     "text": [
      "[nltk_data] Downloading package stopwords to\n",
      "[nltk_data]     C:\\Users\\pc\\AppData\\Roaming\\nltk_data...\n",
      "[nltk_data]   Package stopwords is already up-to-date!\n",
      "[nltk_data] Downloading package wordnet to\n",
      "[nltk_data]     C:\\Users\\pc\\AppData\\Roaming\\nltk_data...\n",
      "[nltk_data]   Package wordnet is already up-to-date!\n",
      "[nltk_data] Downloading package omw-1.4 to\n",
      "[nltk_data]     C:\\Users\\pc\\AppData\\Roaming\\nltk_data...\n",
      "[nltk_data]   Package omw-1.4 is already up-to-date!\n",
      "[nltk_data] Downloading package punkt to\n",
      "[nltk_data]     C:\\Users\\pc\\AppData\\Roaming\\nltk_data...\n",
      "[nltk_data]   Package punkt is already up-to-date!\n"
     ]
    },
    {
     "data": {
      "text/plain": [
       "True"
      ]
     },
     "execution_count": 5,
     "metadata": {},
     "output_type": "execute_result"
    }
   ],
   "source": [
    "import nltk\n",
    "from nltk.tokenize import RegexpTokenizer\n",
    "from nltk.stem import WordNetLemmatizer,PorterStemmer\n",
    "from nltk.corpus import stopwords\n",
    "import re\n",
    "\n",
    "nltk.download('stopwords')\n",
    "nltk.download('wordnet')\n",
    "nltk.download('omw-1.4')\n",
    "nltk.download('punkt')"
   ]
  },
  {
   "cell_type": "code",
   "execution_count": 6,
   "id": "49d76205",
   "metadata": {},
   "outputs": [],
   "source": [
    "# lemmatizer = WordNetLemmatizer()\n",
    "# stemmer = PorterStemmer() \n",
    "# downoload dependencies\n",
    "\n",
    "def preprocess(sentence):\n",
    "    \n",
    "    sentence=str(sentence)\n",
    "    sentence = sentence.lower()\n",
    "    sentence=sentence.replace('{html}',\"\") \n",
    "    cleanr = re.compile('<.*?>')\n",
    "    cleantext = re.sub(cleanr, '', sentence)\n",
    "    rem_url=re.sub(r'http\\S+', '',cleantext)\n",
    "    rem_num = re.sub('[0-9]+', '', rem_url)\n",
    "    tokenizer = RegexpTokenizer(r'\\w+')\n",
    "    tokens = tokenizer.tokenize(rem_num)  \n",
    "    filtered_words = [w for w in tokens if len(w) in range(3,14) if not w in stopwords.words('english')]\n",
    "#     stem_words=[stemmer.stem(w) for w in filtered_words]\n",
    "#     lemma_words=[lemmatizer.lemmatize(w) for w in stem_words]\n",
    "\n",
    "    # return None is sentence have only one word\n",
    "    if \" \".join(filtered_words).count(\" \") == 0: return\n",
    "    return \" \".join(filtered_words)\n",
    "\n",
    "\n",
    "df['clean_text'] = df['text'].map(lambda s:preprocess(s)) "
   ]
  },
  {
   "cell_type": "code",
   "execution_count": 7,
   "id": "144811de",
   "metadata": {},
   "outputs": [
    {
     "data": {
      "text/html": [
       "<div>\n",
       "<style scoped>\n",
       "    .dataframe tbody tr th:only-of-type {\n",
       "        vertical-align: middle;\n",
       "    }\n",
       "\n",
       "    .dataframe tbody tr th {\n",
       "        vertical-align: top;\n",
       "    }\n",
       "\n",
       "    .dataframe thead th {\n",
       "        text-align: right;\n",
       "    }\n",
       "</style>\n",
       "<table border=\"1\" class=\"dataframe\">\n",
       "  <thead>\n",
       "    <tr style=\"text-align: right;\">\n",
       "      <th></th>\n",
       "      <th>text</th>\n",
       "      <th>label</th>\n",
       "      <th>clean_text</th>\n",
       "    </tr>\n",
       "  </thead>\n",
       "  <tbody>\n",
       "    <tr>\n",
       "      <th>0</th>\n",
       "      <td>we understand that most people who reply immed...</td>\n",
       "      <td>1</td>\n",
       "      <td>understand people reply immediately invitation...</td>\n",
       "    </tr>\n",
       "    <tr>\n",
       "      <th>1</th>\n",
       "      <td>welcome to r depression s check in post a plac...</td>\n",
       "      <td>1</td>\n",
       "      <td>welcome depression check post place take momen...</td>\n",
       "    </tr>\n",
       "    <tr>\n",
       "      <th>2</th>\n",
       "      <td>anyone else instead of sleeping more when depr...</td>\n",
       "      <td>1</td>\n",
       "      <td>anyone else instead sleeping depressed stay ni...</td>\n",
       "    </tr>\n",
       "    <tr>\n",
       "      <th>3</th>\n",
       "      <td>i ve kind of stuffed around a lot in my life d...</td>\n",
       "      <td>1</td>\n",
       "      <td>kind stuffed around lot life delaying inevitab...</td>\n",
       "    </tr>\n",
       "    <tr>\n",
       "      <th>4</th>\n",
       "      <td>sleep is my greatest and most comforting escap...</td>\n",
       "      <td>1</td>\n",
       "      <td>sleep greatest comforting escape whenever wake...</td>\n",
       "    </tr>\n",
       "  </tbody>\n",
       "</table>\n",
       "</div>"
      ],
      "text/plain": [
       "                                                text  label  \\\n",
       "0  we understand that most people who reply immed...      1   \n",
       "1  welcome to r depression s check in post a plac...      1   \n",
       "2  anyone else instead of sleeping more when depr...      1   \n",
       "3  i ve kind of stuffed around a lot in my life d...      1   \n",
       "4  sleep is my greatest and most comforting escap...      1   \n",
       "\n",
       "                                          clean_text  \n",
       "0  understand people reply immediately invitation...  \n",
       "1  welcome depression check post place take momen...  \n",
       "2  anyone else instead sleeping depressed stay ni...  \n",
       "3  kind stuffed around lot life delaying inevitab...  \n",
       "4  sleep greatest comforting escape whenever wake...  "
      ]
     },
     "execution_count": 7,
     "metadata": {},
     "output_type": "execute_result"
    }
   ],
   "source": [
    "# dropping empty rows\n",
    "df = df.dropna()\n",
    "df.head()"
   ]
  },
  {
   "cell_type": "markdown",
   "id": "182bc27f",
   "metadata": {},
   "source": [
    "### Stemming data"
   ]
  },
  {
   "cell_type": "code",
   "execution_count": 8,
   "id": "0c6f1e4a",
   "metadata": {},
   "outputs": [],
   "source": [
    "from nltk.stem import PorterStemmer\n",
    "\n",
    "ps = PorterStemmer()\n",
    "\n",
    "def stemming(sentence):\n",
    "    \n",
    "    stem_sentence = [ps.stem(word) for word in sentence.split()]\n",
    "    return ' '.join(stem_sentence)\n",
    "\n",
    "df['stem_text'] = df['clean_text'].map(lambda s:stemming(s)) "
   ]
  },
  {
   "cell_type": "code",
   "execution_count": 9,
   "id": "6bf4d1b4",
   "metadata": {},
   "outputs": [
    {
     "data": {
      "text/html": [
       "<div>\n",
       "<style scoped>\n",
       "    .dataframe tbody tr th:only-of-type {\n",
       "        vertical-align: middle;\n",
       "    }\n",
       "\n",
       "    .dataframe tbody tr th {\n",
       "        vertical-align: top;\n",
       "    }\n",
       "\n",
       "    .dataframe thead th {\n",
       "        text-align: right;\n",
       "    }\n",
       "</style>\n",
       "<table border=\"1\" class=\"dataframe\">\n",
       "  <thead>\n",
       "    <tr style=\"text-align: right;\">\n",
       "      <th></th>\n",
       "      <th>text</th>\n",
       "      <th>label</th>\n",
       "      <th>clean_text</th>\n",
       "      <th>stem_text</th>\n",
       "    </tr>\n",
       "  </thead>\n",
       "  <tbody>\n",
       "    <tr>\n",
       "      <th>0</th>\n",
       "      <td>we understand that most people who reply immed...</td>\n",
       "      <td>1</td>\n",
       "      <td>understand people reply immediately invitation...</td>\n",
       "      <td>understand peopl repli immedi invit talk priva...</td>\n",
       "    </tr>\n",
       "    <tr>\n",
       "      <th>1</th>\n",
       "      <td>welcome to r depression s check in post a plac...</td>\n",
       "      <td>1</td>\n",
       "      <td>welcome depression check post place take momen...</td>\n",
       "      <td>welcom depress check post place take moment sh...</td>\n",
       "    </tr>\n",
       "    <tr>\n",
       "      <th>2</th>\n",
       "      <td>anyone else instead of sleeping more when depr...</td>\n",
       "      <td>1</td>\n",
       "      <td>anyone else instead sleeping depressed stay ni...</td>\n",
       "      <td>anyon els instead sleep depress stay night avo...</td>\n",
       "    </tr>\n",
       "    <tr>\n",
       "      <th>3</th>\n",
       "      <td>i ve kind of stuffed around a lot in my life d...</td>\n",
       "      <td>1</td>\n",
       "      <td>kind stuffed around lot life delaying inevitab...</td>\n",
       "      <td>kind stuf around lot life delay inevit work jo...</td>\n",
       "    </tr>\n",
       "    <tr>\n",
       "      <th>4</th>\n",
       "      <td>sleep is my greatest and most comforting escap...</td>\n",
       "      <td>1</td>\n",
       "      <td>sleep greatest comforting escape whenever wake...</td>\n",
       "      <td>sleep greatest comfort escap whenev wake day l...</td>\n",
       "    </tr>\n",
       "  </tbody>\n",
       "</table>\n",
       "</div>"
      ],
      "text/plain": [
       "                                                text  label  \\\n",
       "0  we understand that most people who reply immed...      1   \n",
       "1  welcome to r depression s check in post a plac...      1   \n",
       "2  anyone else instead of sleeping more when depr...      1   \n",
       "3  i ve kind of stuffed around a lot in my life d...      1   \n",
       "4  sleep is my greatest and most comforting escap...      1   \n",
       "\n",
       "                                          clean_text  \\\n",
       "0  understand people reply immediately invitation...   \n",
       "1  welcome depression check post place take momen...   \n",
       "2  anyone else instead sleeping depressed stay ni...   \n",
       "3  kind stuffed around lot life delaying inevitab...   \n",
       "4  sleep greatest comforting escape whenever wake...   \n",
       "\n",
       "                                           stem_text  \n",
       "0  understand peopl repli immedi invit talk priva...  \n",
       "1  welcom depress check post place take moment sh...  \n",
       "2  anyon els instead sleep depress stay night avo...  \n",
       "3  kind stuf around lot life delay inevit work jo...  \n",
       "4  sleep greatest comfort escap whenev wake day l...  "
      ]
     },
     "execution_count": 9,
     "metadata": {},
     "output_type": "execute_result"
    }
   ],
   "source": [
    "df.head()"
   ]
  },
  {
   "cell_type": "code",
   "execution_count": 10,
   "id": "aeb97303",
   "metadata": {},
   "outputs": [],
   "source": [
    "df.to_csv('stem_data.csv')"
   ]
  },
  {
   "cell_type": "code",
   "execution_count": 11,
   "id": "510e26d3",
   "metadata": {},
   "outputs": [
    {
     "data": {
      "text/plain": [
       "1782"
      ]
     },
     "execution_count": 11,
     "metadata": {},
     "output_type": "execute_result"
    }
   ],
   "source": [
    "longest_tweet = 0\n",
    "sentences_len = []\n",
    "for sentence in df['stem_text']: \n",
    "    sentence_len = \" \".join(sentence.split()).count(\" \")\n",
    "    sentences_len.append(sentence_len)\n",
    "    if longest_tweet < sentence_len:\n",
    "        longest_tweet = sentence_len\n",
    "longest_tweet"
   ]
  },
  {
   "cell_type": "markdown",
   "id": "d661d1bd",
   "metadata": {},
   "source": [
    "Longest tweet in this dataset contains 1785 words."
   ]
  },
  {
   "cell_type": "code",
   "execution_count": 12,
   "id": "d094a96d",
   "metadata": {},
   "outputs": [
    {
     "data": {
      "text/plain": [
       "<AxesSubplot:ylabel='Frequency'>"
      ]
     },
     "execution_count": 12,
     "metadata": {},
     "output_type": "execute_result"
    },
    {
     "data": {
      "image/png": "[encoded data removed]",
      "text/plain": [
       "<Figure size 640x480 with 1 Axes>"
      ]
     },
     "metadata": {},
     "output_type": "display_data"
    }
   ],
   "source": [
    "pd.DataFrame(sentences_len).plot.hist(bins=1000, grid=False, xlim=(0,250))"
   ]
  },
  {
   "cell_type": "markdown",
   "id": "bfc58201",
   "metadata": {},
   "source": [
    "Distribution of length of data(limited to 250)."
   ]
  },
  {
   "cell_type": "markdown",
   "id": "d92c27ba",
   "metadata": {},
   "source": [
    "Average length of tweet:"
   ]
  },
  {
   "cell_type": "code",
   "execution_count": 13,
   "id": "65148505",
   "metadata": {},
   "outputs": [
    {
     "data": {
      "text/plain": [
       "32.072319201995015"
      ]
     },
     "execution_count": 13,
     "metadata": {},
     "output_type": "execute_result"
    }
   ],
   "source": [
    "avg = np.average(np.asarray(sentences_len))\n",
    "avg"
   ]
  },
  {
   "cell_type": "markdown",
   "id": "adda6d17",
   "metadata": {},
   "source": [
    "Dominant length:"
   ]
  },
  {
   "cell_type": "code",
   "execution_count": 14,
   "id": "c9cac961",
   "metadata": {},
   "outputs": [
    {
     "data": {
      "text/plain": [
       "5"
      ]
     },
     "execution_count": 14,
     "metadata": {},
     "output_type": "execute_result"
    }
   ],
   "source": [
    "counts = np.bincount(np.asarray(sentences_len))\n",
    "np.argmax(counts)"
   ]
  },
  {
   "cell_type": "markdown",
   "id": "b61f6505",
   "metadata": {},
   "source": [
    "Std of this array:"
   ]
  },
  {
   "cell_type": "code",
   "execution_count": 15,
   "id": "f04fd7b0",
   "metadata": {},
   "outputs": [
    {
     "data": {
      "text/plain": [
       "61.12474163690561"
      ]
     },
     "execution_count": 15,
     "metadata": {},
     "output_type": "execute_result"
    }
   ],
   "source": [
    "std = np.std(np.asarray(sentences_len))\n",
    "std"
   ]
  },
  {
   "cell_type": "markdown",
   "id": "7fbce4fd",
   "metadata": {},
   "source": [
    "I will assume standard length as 155"
   ]
  },
  {
   "cell_type": "code",
   "execution_count": 16,
   "id": "3ff3970d",
   "metadata": {},
   "outputs": [
    {
     "data": {
      "text/plain": [
       "155"
      ]
     },
     "execution_count": 16,
     "metadata": {},
     "output_type": "execute_result"
    }
   ],
   "source": [
    "standard_len = int(np.ceil(avg + 2*std))\n",
    "standard_len"
   ]
  },
  {
   "cell_type": "markdown",
   "id": "f46402e7",
   "metadata": {},
   "source": [
    "### Counting words"
   ]
  },
  {
   "cell_type": "code",
   "execution_count": 21,
   "id": "7ce5916e",
   "metadata": {},
   "outputs": [],
   "source": [
    "counts = df[\"stem_text\"].str.findall(r\"(\\w+)\").explode().value_counts()\n",
    "# counts = counts.nlargest(10)"
   ]
  },
  {
   "cell_type": "code",
   "execution_count": 20,
   "id": "d17e31c4",
   "metadata": {},
   "outputs": [
    {
     "data": {
      "image/png": "[encoded data removed]",
      "text/plain": [
       "<Figure size 600x500 with 1 Axes>"
      ]
     },
     "metadata": {},
     "output_type": "display_data"
    }
   ],
   "source": [
    "fig, ax = plt.subplots(figsize=(6,5))\n",
    "sns.barplot(x=counts.index, y=counts.values, ax=ax)\n",
    "ax.set_ylabel('Number of Occurrences', fontsize=12)\n",
    "ax.set_xlabel('Word', fontsize=12)\n",
    "ax.xaxis.set_tick_params(rotation=90)"
   ]
  },
  {
   "cell_type": "code",
   "execution_count": 24,
   "id": "5f194ca7",
   "metadata": {},
   "outputs": [
    {
     "data": {
      "text/plain": [
       "14138"
      ]
     },
     "execution_count": 24,
     "metadata": {},
     "output_type": "execute_result"
    }
   ],
   "source": [
    "len(counts)"
   ]
  },
  {
   "cell_type": "markdown",
   "id": "ef30964c",
   "metadata": {},
   "source": [
    "There is 14138 word in this dataset"
   ]
  },
  {
   "cell_type": "code",
   "execution_count": 47,
   "id": "de60ccf0",
   "metadata": {},
   "outputs": [
    {
     "name": "stdout",
     "output_type": "stream",
     "text": [
      "3440\n"
     ]
    }
   ],
   "source": [
    "for idx, freq in enumerate(counts):\n",
    "    if freq < 5:\n",
    "        print(idx)\n",
    "        break"
   ]
  },
  {
   "cell_type": "markdown",
   "id": "e3b64298",
   "metadata": {},
   "source": [
    "Only 3440 first word occurent more than 4 times in this dataset"
   ]
  },
  {
   "cell_type": "markdown",
   "id": "fa0370dc",
   "metadata": {},
   "source": [
    "### Vectorizing words"
   ]
  },
  {
   "cell_type": "code",
   "execution_count": 48,
   "id": "e0b2f301",
   "metadata": {},
   "outputs": [],
   "source": [
    "from nltk import word_tokenize\n",
    "from collections import defaultdict\n",
    "\n",
    "def count_top_x_words(corpus, top_x, skip_top_n):\n",
    "    count = defaultdict(lambda: 0)\n",
    "    for c in corpus:\n",
    "        for w in word_tokenize(c):\n",
    "            count[w] += 1\n",
    "    count_tuples = sorted([(w, c) for w, c in count.items()], key=lambda x: x[1], reverse=True)\n",
    "    return [i[0] for i in count_tuples[skip_top_n: skip_top_n + top_x]]\n",
    "\n",
    "\n",
    "def replace_top_x_words_with_vectors(corpus, top_x):\n",
    "    topx_dict = {top_x[i]: i for i in range(len(top_x))}\n",
    "\n",
    "    return [\n",
    "        [topx_dict[w] for w in word_tokenize(s) if w in topx_dict]\n",
    "        for s in corpus\n",
    "    ], topx_dict\n",
    "\n",
    "\n",
    "def filter_to_top_x(corpus, n_top, skip_n_top=0):\n",
    "    top_x = count_top_x_words(corpus, n_top, skip_n_top)\n",
    "    return replace_top_x_words_with_vectors(corpus, top_x)"
   ]
  },
  {
   "cell_type": "code",
   "execution_count": 49,
   "id": "5520f73c",
   "metadata": {},
   "outputs": [],
   "source": [
    "text_list = df['stem_text'].tolist()\n",
    "number_of_words = 3440\n",
    "mapped_list, word_list = filter_to_top_x(text_list, number_of_words)"
   ]
  },
  {
   "cell_type": "code",
   "execution_count": 50,
   "id": "ab11cc9d",
   "metadata": {},
   "outputs": [
    {
     "data": {
      "text/plain": [
       "['feel', 'like', 'get', 'want', 'know']"
      ]
     },
     "execution_count": 50,
     "metadata": {},
     "output_type": "execute_result"
    }
   ],
   "source": [
    "# mapped_list\n",
    "list(word_list)[0:5]"
   ]
  },
  {
   "cell_type": "markdown",
   "id": "61708f2f",
   "metadata": {},
   "source": [
    "### Creating training and testing dataset"
   ]
  },
  {
   "cell_type": "code",
   "execution_count": 51,
   "id": "e000ffd3",
   "metadata": {},
   "outputs": [],
   "source": [
    "tf.random.set_seed(\n",
    "                seed=0\n",
    ")"
   ]
  },
  {
   "cell_type": "code",
   "execution_count": 52,
   "id": "36718952",
   "metadata": {},
   "outputs": [],
   "source": [
    "from sklearn.model_selection import train_test_split\n",
    "from tensorflow.keras.preprocessing import sequence\n",
    "from tensorflow.keras.utils import normalize\n",
    "\n",
    "labels = np.asarray(df['label'].tolist()).astype('float64')\n",
    "\n",
    "max_text_length = standard_len # based on the statistic deviation\n",
    "mapped_list = sequence.pad_sequences(mapped_list, maxlen=max_text_length)\n",
    "\n",
    "# mapped_list = normalize(\n",
    "#     mapped_list, axis=-1, order=2\n",
    "# )\n",
    "\n",
    "# Instead normalizing by division\n",
    "mapped_list = mapped_list / 3440\n",
    "\n",
    "x_train, x_test, y_train, y_test = train_test_split(mapped_list, labels, test_size=0.3)"
   ]
  },
  {
   "cell_type": "code",
   "execution_count": 53,
   "id": "04293fa8",
   "metadata": {},
   "outputs": [
    {
     "data": {
      "text/plain": [
       "array([[<AxesSubplot:title={'center':'0'}>]], dtype=object)"
      ]
     },
     "execution_count": 53,
     "metadata": {},
     "output_type": "execute_result"
    },
    {
     "data": {
      "image/png": "[encoded data removed]",
      "text/plain": [
       "<Figure size 640x480 with 1 Axes>"
      ]
     },
     "metadata": {},
     "output_type": "display_data"
    }
   ],
   "source": [
    "pd.DataFrame(labels).hist(bins=2, grid=False)"
   ]
  },
  {
   "cell_type": "markdown",
   "id": "fe2a6562",
   "metadata": {},
   "source": [
    "Dataset is extremely balanced"
   ]
  },
  {
   "cell_type": "code",
   "execution_count": 54,
   "id": "706355ef",
   "metadata": {},
   "outputs": [
    {
     "data": {
      "text/plain": [
       "array([0.        , 0.        , 0.        , 0.        , 0.        ,\n",
       "       0.        , 0.        , 0.        , 0.        , 0.        ,\n",
       "       0.        , 0.        , 0.        , 0.        , 0.        ,\n",
       "       0.        , 0.        , 0.        , 0.        , 0.        ,\n",
       "       0.        , 0.        , 0.        , 0.        , 0.        ,\n",
       "       0.        , 0.        , 0.        , 0.        , 0.        ,\n",
       "       0.        , 0.        , 0.        , 0.        , 0.        ,\n",
       "       0.        , 0.        , 0.        , 0.        , 0.        ,\n",
       "       0.        , 0.        , 0.        , 0.        , 0.        ,\n",
       "       0.        , 0.        , 0.        , 0.        , 0.        ,\n",
       "       0.        , 0.        , 0.        , 0.        , 0.        ,\n",
       "       0.        , 0.        , 0.        , 0.        , 0.        ,\n",
       "       0.        , 0.        , 0.        , 0.        , 0.        ,\n",
       "       0.        , 0.        , 0.        , 0.        , 0.        ,\n",
       "       0.        , 0.        , 0.        , 0.        , 0.        ,\n",
       "       0.        , 0.        , 0.        , 0.        , 0.        ,\n",
       "       0.        , 0.        , 0.        , 0.        , 0.        ,\n",
       "       0.        , 0.        , 0.        , 0.        , 0.        ,\n",
       "       0.        , 0.        , 0.        , 0.        , 0.        ,\n",
       "       0.        , 0.        , 0.        , 0.        , 0.        ,\n",
       "       0.        , 0.        , 0.        , 0.        , 0.        ,\n",
       "       0.        , 0.        , 0.        , 0.        , 0.        ,\n",
       "       0.        , 0.        , 0.        , 0.        , 0.        ,\n",
       "       0.        , 0.        , 0.        , 0.        , 0.        ,\n",
       "       0.        , 0.        , 0.        , 0.        , 0.        ,\n",
       "       0.        , 0.        , 0.        , 0.        , 0.        ,\n",
       "       0.        , 0.        , 0.        , 0.        , 0.        ,\n",
       "       0.        , 0.        , 0.        , 0.        , 0.        ,\n",
       "       0.        , 0.        , 0.        , 0.        , 0.        ,\n",
       "       0.        , 0.20930233, 0.78488372, 0.00203488, 0.24215116,\n",
       "       0.00203488, 0.02732558, 0.04273256, 0.01715116, 0.18488372])"
      ]
     },
     "execution_count": 54,
     "metadata": {},
     "output_type": "execute_result"
    }
   ],
   "source": [
    "x_train[0]"
   ]
  },
  {
   "cell_type": "markdown",
   "id": "6dc50779",
   "metadata": {},
   "source": [
    "### Creating machine learning model"
   ]
  },
  {
   "cell_type": "code",
   "execution_count": 55,
   "id": "3f427fc1",
   "metadata": {},
   "outputs": [],
   "source": [
    "import tensorflow as tf\n",
    "from tensorflow.keras.models import Sequential\n",
    "from tensorflow.keras.layers import Dense, Conv1D, Flatten, MaxPooling1D, InputLayer\n",
    "from tensorflow.keras.layers import Embedding\n",
    "from tensorflow.keras.optimizers import Adam"
   ]
  },
  {
   "cell_type": "code",
   "execution_count": 56,
   "id": "a686ee69",
   "metadata": {},
   "outputs": [],
   "source": [
    " class my_model:\n",
    "    \n",
    "    def __init__(self, embedding=0, ker=0, pool_size=0, strides=0, input_shape=0):\n",
    "        \n",
    "        self.embedding = embedding\n",
    "        self.ker = ker\n",
    "        self.pool_size = pool_size\n",
    "        self.strides = strides\n",
    "        self.input_shape = input_shape\n",
    "        \n",
    "        \n",
    "    def cnn(self):\n",
    "\n",
    "        model = Sequential()\n",
    "\n",
    "        model.add(Embedding(number_of_words, self.embedding, input_length=max_text_length))\n",
    "        model.add(Conv1D(self.ker, self.ker))\n",
    "        model.add(MaxPooling1D(pool_size=self.pool_size, strides=self.strides, padding='valid'))                            \n",
    "\n",
    "        model.add(Flatten())\n",
    "            \n",
    "        model.add(InputLayer(input_shape=(18,)))\n",
    "        model.add(Dense(100, activation='relu'))\n",
    "        model.add(Dense(1, activation='sigmoid'))\n",
    "\n",
    "        opt = Adam(learning_rate=1e-2)\n",
    "        model.compile(loss='BinaryCrossentropy', optimizer=opt, metrics=['AUC'])\n",
    "\n",
    "        return model\n",
    "    \n",
    "    def ann(self):\n",
    "\n",
    "        model = Sequential()\n",
    "\n",
    "        model.add(InputLayer(input_shape=(self.input_shape,)))\n",
    "        model.add(Dense(100, activation='relu'))\n",
    "        model.add(Dense(50, activation='relu'))\n",
    "        model.add(Dense(25, activation='relu'))\n",
    "        model.add(Dense(1, activation='sigmoid'))\n",
    "\n",
    "        opt = Adam(learning_rate=1e-2)\n",
    "        model.compile(loss='BinaryCrossentropy', optimizer=opt, metrics=['AUC'])\n",
    "\n",
    "        return model"
   ]
  },
  {
   "cell_type": "code",
   "execution_count": 57,
   "id": "b34444b2",
   "metadata": {},
   "outputs": [
    {
     "name": "stdout",
     "output_type": "stream",
     "text": [
      "Model: \"sequential\"\n",
      "_________________________________________________________________\n",
      " Layer (type)                Output Shape              Param #   \n",
      "=================================================================\n",
      " dense (Dense)               (None, 100)               15600     \n",
      "                                                                 \n",
      " dense_1 (Dense)             (None, 50)                5050      \n",
      "                                                                 \n",
      " dense_2 (Dense)             (None, 25)                1275      \n",
      "                                                                 \n",
      " dense_3 (Dense)             (None, 1)                 26        \n",
      "                                                                 \n",
      "=================================================================\n",
      "Total params: 21,951\n",
      "Trainable params: 21,951\n",
      "Non-trainable params: 0\n",
      "_________________________________________________________________\n"
     ]
    }
   ],
   "source": [
    "model = my_model(\n",
    "#                 embedding=100, \n",
    "#                 ker=3, \n",
    "#                 pool_size=2,\n",
    "#                 strides=2,\n",
    "                input_shape=standard_len\n",
    ")\n",
    "model = model.ann()\n",
    "model.summary()"
   ]
  },
  {
   "cell_type": "code",
   "execution_count": 58,
   "id": "214fc618",
   "metadata": {},
   "outputs": [
    {
     "name": "stdout",
     "output_type": "stream",
     "text": [
      "Epoch 1/50\n",
      "267/267 [==============================] - 1s 638us/step - loss: 0.3712 - auc: 0.8780\n",
      "Epoch 2/50\n",
      "267/267 [==============================] - 0s 653us/step - loss: 0.3470 - auc: 0.8857\n",
      "Epoch 3/50\n",
      "267/267 [==============================] - 0s 660us/step - loss: 0.3356 - auc: 0.8927\n",
      "Epoch 4/50\n",
      "267/267 [==============================] - 0s 657us/step - loss: 0.3306 - auc: 0.8941\n",
      "Epoch 5/50\n",
      "267/267 [==============================] - 0s 660us/step - loss: 0.3257 - auc: 0.8977\n",
      "Epoch 6/50\n",
      "267/267 [==============================] - 0s 665us/step - loss: 0.3228 - auc: 0.9020\n",
      "Epoch 7/50\n",
      "267/267 [==============================] - 0s 656us/step - loss: 0.3180 - auc: 0.9025\n",
      "Epoch 8/50\n",
      "267/267 [==============================] - 0s 649us/step - loss: 0.3185 - auc: 0.9033\n",
      "Epoch 9/50\n",
      "267/267 [==============================] - 0s 637us/step - loss: 0.3147 - auc: 0.9080\n",
      "Epoch 10/50\n",
      "267/267 [==============================] - 0s 645us/step - loss: 0.3136 - auc: 0.9078\n",
      "Epoch 11/50\n",
      "267/267 [==============================] - 0s 646us/step - loss: 0.3105 - auc: 0.9093\n",
      "Epoch 12/50\n",
      "267/267 [==============================] - 0s 649us/step - loss: 0.3081 - auc: 0.9108\n",
      "Epoch 13/50\n",
      "267/267 [==============================] - 0s 649us/step - loss: 0.3069 - auc: 0.9131\n",
      "Epoch 14/50\n",
      "267/267 [==============================] - 0s 653us/step - loss: 0.3001 - auc: 0.9152\n",
      "Epoch 15/50\n",
      "267/267 [==============================] - 0s 660us/step - loss: 0.2977 - auc: 0.9182\n",
      "Epoch 16/50\n",
      "267/267 [==============================] - 0s 645us/step - loss: 0.2982 - auc: 0.9158\n",
      "Epoch 17/50\n",
      "267/267 [==============================] - 0s 649us/step - loss: 0.2959 - auc: 0.9177\n",
      "Epoch 18/50\n",
      "267/267 [==============================] - 0s 652us/step - loss: 0.2921 - auc: 0.9214\n",
      "Epoch 19/50\n",
      "267/267 [==============================] - 0s 652us/step - loss: 0.2893 - auc: 0.9232\n",
      "Epoch 20/50\n",
      "267/267 [==============================] - 0s 656us/step - loss: 0.2871 - auc: 0.9228\n",
      "Epoch 21/50\n",
      "267/267 [==============================] - 0s 649us/step - loss: 0.2850 - auc: 0.9259\n",
      "Epoch 22/50\n",
      "267/267 [==============================] - 0s 649us/step - loss: 0.2806 - auc: 0.9265\n",
      "Epoch 23/50\n",
      "267/267 [==============================] - 0s 648us/step - loss: 0.2819 - auc: 0.9268\n",
      "Epoch 24/50\n",
      "267/267 [==============================] - 0s 648us/step - loss: 0.2809 - auc: 0.9280\n",
      "Epoch 25/50\n",
      "267/267 [==============================] - 0s 645us/step - loss: 0.2746 - auc: 0.9303\n",
      "Epoch 26/50\n",
      "267/267 [==============================] - 0s 652us/step - loss: 0.2695 - auc: 0.9329\n",
      "Epoch 27/50\n",
      "267/267 [==============================] - 0s 649us/step - loss: 0.2706 - auc: 0.9333\n",
      "Epoch 28/50\n",
      "267/267 [==============================] - 0s 660us/step - loss: 0.2675 - auc: 0.9368\n",
      "Epoch 29/50\n",
      "267/267 [==============================] - 0s 660us/step - loss: 0.2634 - auc: 0.9369\n",
      "Epoch 30/50\n",
      "267/267 [==============================] - 0s 649us/step - loss: 0.2689 - auc: 0.9355\n",
      "Epoch 31/50\n",
      "267/267 [==============================] - 0s 652us/step - loss: 0.2598 - auc: 0.9384\n",
      "Epoch 32/50\n",
      "267/267 [==============================] - 0s 641us/step - loss: 0.2587 - auc: 0.9404\n",
      "Epoch 33/50\n",
      "267/267 [==============================] - 0s 649us/step - loss: 0.2583 - auc: 0.9406\n",
      "Epoch 34/50\n",
      "267/267 [==============================] - 0s 652us/step - loss: 0.2731 - auc: 0.9350\n",
      "Epoch 35/50\n",
      "267/267 [==============================] - 0s 645us/step - loss: 0.2571 - auc: 0.9411\n",
      "Epoch 36/50\n",
      "267/267 [==============================] - 0s 647us/step - loss: 0.2536 - auc: 0.9429\n",
      "Epoch 37/50\n",
      "267/267 [==============================] - 0s 660us/step - loss: 0.2517 - auc: 0.9431\n",
      "Epoch 38/50\n",
      "267/267 [==============================] - 0s 656us/step - loss: 0.2514 - auc: 0.9450\n",
      "Epoch 39/50\n",
      "267/267 [==============================] - 0s 652us/step - loss: 0.2534 - auc: 0.9428\n",
      "Epoch 40/50\n",
      "267/267 [==============================] - 0s 656us/step - loss: 0.2527 - auc: 0.9424\n",
      "Epoch 41/50\n",
      "267/267 [==============================] - 0s 660us/step - loss: 0.2557 - auc: 0.9433\n",
      "Epoch 42/50\n",
      "267/267 [==============================] - 0s 644us/step - loss: 0.2482 - auc: 0.9461\n",
      "Epoch 43/50\n",
      "267/267 [==============================] - 0s 660us/step - loss: 0.2445 - auc: 0.9465\n",
      "Epoch 44/50\n",
      "267/267 [==============================] - 0s 652us/step - loss: 0.2412 - auc: 0.9484\n",
      "Epoch 45/50\n",
      "267/267 [==============================] - 0s 645us/step - loss: 0.2380 - auc: 0.9495\n",
      "Epoch 46/50\n",
      "267/267 [==============================] - 0s 645us/step - loss: 0.2421 - auc: 0.9489\n",
      "Epoch 47/50\n",
      "267/267 [==============================] - 0s 641us/step - loss: 0.2419 - auc: 0.9487\n",
      "Epoch 48/50\n",
      "267/267 [==============================] - 0s 652us/step - loss: 0.2440 - auc: 0.9484\n",
      "Epoch 49/50\n",
      "267/267 [==============================] - 0s 653us/step - loss: 0.2367 - auc: 0.9517\n",
      "Epoch 50/50\n",
      "267/267 [==============================] - 0s 649us/step - loss: 0.2304 - auc: 0.9526\n"
     ]
    }
   ],
   "source": [
    "history = model.fit(x_train, y_train, epochs=50, batch_size=20)"
   ]
  },
  {
   "cell_type": "markdown",
   "id": "e5618633",
   "metadata": {},
   "source": [
    "### Displaying results"
   ]
  },
  {
   "cell_type": "markdown",
   "id": "87d65a97",
   "metadata": {},
   "source": [
    "##### Convergent curve"
   ]
  },
  {
   "cell_type": "code",
   "execution_count": 59,
   "id": "08940f07",
   "metadata": {},
   "outputs": [
    {
     "name": "stdout",
     "output_type": "stream",
     "text": [
      "72/72 [==============================] - 0s 534us/step - loss: 0.5984 - auc: 0.8811\n",
      "Test Loss: 0.5983752012252808, Test Accuracy: 0.8811097741127014\n"
     ]
    },
    {
     "data": {
      "image/png": "[encoded data removed]",
      "text/plain": [
       "<Figure size 800x500 with 1 Axes>"
      ]
     },
     "metadata": {},
     "output_type": "display_data"
    }
   ],
   "source": [
    "test_loss, test_acc = model.evaluate(x_test, y_test)\n",
    "print('Test Loss: {}, Test Accuracy: {}'.format(test_loss, test_acc))\n",
    "\n",
    "y_pred = model.predict(x_test)\n",
    "y_class = np.round(y_pred)\n",
    "\n",
    "pd.DataFrame(history.history).plot(figsize=(8,5))\n",
    "plt.show()"
   ]
  },
  {
   "cell_type": "markdown",
   "id": "a7469f10",
   "metadata": {},
   "source": [
    "##### Confusion matrix"
   ]
  },
  {
   "cell_type": "code",
   "execution_count": 60,
   "id": "1f56ef74",
   "metadata": {},
   "outputs": [
    {
     "data": {
      "image/png": "[encoded data removed]",
      "text/plain": [
       "<Figure size 1200x800 with 2 Axes>"
      ]
     },
     "metadata": {},
     "output_type": "display_data"
    }
   ],
   "source": [
    "from sklearn.metrics import confusion_matrix\n",
    "from seaborn import heatmap\n",
    "\n",
    "confusion_mtx = confusion_matrix(y_test, y_class)\n",
    "fig, ax = plt.subplots(figsize=(12,8))\n",
    "ax = heatmap(confusion_mtx, annot=True, fmt='d', ax=ax, cmap='Blues')\n",
    "ax.set_xlabel('Prediciton Label')\n",
    "ax.set_ylabel('True Label')\n",
    "ax.set_title('Confusion Matrix')\n",
    "plt.show()"
   ]
  },
  {
   "cell_type": "markdown",
   "id": "7dad8389",
   "metadata": {},
   "source": [
    "### Making prediction"
   ]
  },
  {
   "cell_type": "code",
   "execution_count": 64,
   "id": "d8084d4d",
   "metadata": {},
   "outputs": [],
   "source": [
    "def model_prediciton(model=model, sentence=''):\n",
    "    \n",
    "    sentence = preprocess(sentence)\n",
    "    sentence = stemming(sentence)\n",
    "    vectorize_sentence = []\n",
    "    for word in sentence.split():\n",
    "        if word in word_list:\n",
    "            vectorize_sentence.append(word_list[word])\n",
    "    \n",
    "    while len(vectorize_sentence) < standard_len:vectorize_sentence.insert(0,0) \n",
    "        \n",
    "    # Normalizing sentence\n",
    "    vectorize_sentence = np.asarray(vectorize_sentence) / 3440\n",
    "    \n",
    "    prediciton = model.predict(vectorize_sentence)\n",
    "    \n",
    "    return prediciton"
   ]
  },
  {
   "cell_type": "code",
   "execution_count": 65,
   "id": "87e12ab9",
   "metadata": {},
   "outputs": [],
   "source": [
    "my_sentence = 'I am extremely depressed'"
   ]
  },
  {
   "cell_type": "code",
   "execution_count": 66,
   "id": "2b270197",
   "metadata": {},
   "outputs": [
    {
     "name": "stdout",
     "output_type": "stream",
     "text": [
      "WARNING:tensorflow:Model was constructed with shape (None, 155) for input KerasTensor(type_spec=TensorSpec(shape=(None, 155), dtype=tf.float32, name='input_1'), name='input_1', description=\"created by layer 'input_1'\"), but it was called on an input with incompatible shape (None,).\n"
     ]
    },
    {
     "ename": "ValueError",
     "evalue": "in user code:\n\n    File \"C:\\Users\\pc\\AppData\\Local\\Programs\\Python\\Python310\\lib\\site-packages\\keras\\engine\\training.py\", line 1801, in predict_function  *\n        return step_function(self, iterator)\n    File \"C:\\Users\\pc\\AppData\\Local\\Programs\\Python\\Python310\\lib\\site-packages\\keras\\engine\\training.py\", line 1790, in step_function  **\n        outputs = model.distribute_strategy.run(run_step, args=(data,))\n    File \"C:\\Users\\pc\\AppData\\Local\\Programs\\Python\\Python310\\lib\\site-packages\\keras\\engine\\training.py\", line 1783, in run_step  **\n        outputs = model.predict_step(data)\n    File \"C:\\Users\\pc\\AppData\\Local\\Programs\\Python\\Python310\\lib\\site-packages\\keras\\engine\\training.py\", line 1751, in predict_step\n        return self(x, training=False)\n    File \"C:\\Users\\pc\\AppData\\Local\\Programs\\Python\\Python310\\lib\\site-packages\\keras\\utils\\traceback_utils.py\", line 67, in error_handler\n        raise e.with_traceback(filtered_tb) from None\n    File \"C:\\Users\\pc\\AppData\\Local\\Programs\\Python\\Python310\\lib\\site-packages\\keras\\engine\\input_spec.py\", line 228, in assert_input_compatibility\n        raise ValueError(f'Input {input_index} of layer \"{layer_name}\" '\n\n    ValueError: Exception encountered when calling layer \"sequential\" (type Sequential).\n    \n    Input 0 of layer \"dense\" is incompatible with the layer: expected min_ndim=2, found ndim=1. Full shape received: (None,)\n    \n    Call arguments received:\n      • inputs=tf.Tensor(shape=(None,), dtype=float32)\n      • training=False\n      • mask=None\n",
     "output_type": "error",
     "traceback": [
      "\u001b[1;31m---------------------------------------------------------------------------\u001b[0m",
      "\u001b[1;31mValueError\u001b[0m                                Traceback (most recent call last)",
      "Input \u001b[1;32mIn [66]\u001b[0m, in \u001b[0;36m<cell line: 1>\u001b[1;34m()\u001b[0m\n\u001b[1;32m----> 1\u001b[0m prediction \u001b[38;5;241m=\u001b[39m \u001b[43mmodel_prediciton\u001b[49m\u001b[43m(\u001b[49m\u001b[43mmodel\u001b[49m\u001b[38;5;241;43m=\u001b[39;49m\u001b[43mmodel\u001b[49m\u001b[43m,\u001b[49m\u001b[43m \u001b[49m\u001b[43msentence\u001b[49m\u001b[38;5;241;43m=\u001b[39;49m\u001b[43mmy_sentence\u001b[49m\u001b[43m)\u001b[49m\n\u001b[0;32m      3\u001b[0m \u001b[38;5;28;01mif\u001b[39;00m prediction[\u001b[38;5;241m0\u001b[39m][\u001b[38;5;241m0\u001b[39m] \u001b[38;5;241m>\u001b[39m \u001b[38;5;241m.5\u001b[39m:\u001b[38;5;28mprint\u001b[39m(\u001b[38;5;124m'\u001b[39m\u001b[38;5;124mSentence indicate depression with \u001b[39m\u001b[38;5;132;01m{}\u001b[39;00m\u001b[38;5;124m%\u001b[39m\u001b[38;5;124m probability\u001b[39m\u001b[38;5;124m'\u001b[39m\u001b[38;5;241m.\u001b[39mformat(np\u001b[38;5;241m.\u001b[39mround(\u001b[38;5;241m100\u001b[39m\u001b[38;5;241m*\u001b[39mprediction[\u001b[38;5;241m0\u001b[39m][\u001b[38;5;241m0\u001b[39m], \u001b[38;5;241m2\u001b[39m)))\n\u001b[0;32m      4\u001b[0m \u001b[38;5;28;01melse\u001b[39;00m:\u001b[38;5;28mprint\u001b[39m(\u001b[38;5;124m'\u001b[39m\u001b[38;5;124mProbability of depression is only \u001b[39m\u001b[38;5;132;01m{}\u001b[39;00m\u001b[38;5;124m%\u001b[39m\u001b[38;5;124m'\u001b[39m\u001b[38;5;241m.\u001b[39mformat(np\u001b[38;5;241m.\u001b[39mround(\u001b[38;5;241m100\u001b[39m\u001b[38;5;241m*\u001b[39mprediction[\u001b[38;5;241m0\u001b[39m][\u001b[38;5;241m0\u001b[39m], \u001b[38;5;241m2\u001b[39m)))\n",
      "Input \u001b[1;32mIn [64]\u001b[0m, in \u001b[0;36mmodel_prediciton\u001b[1;34m(model, sentence)\u001b[0m\n\u001b[0;32m     12\u001b[0m \u001b[38;5;66;03m# Normalizing sentence\u001b[39;00m\n\u001b[0;32m     13\u001b[0m vectorize_sentence \u001b[38;5;241m=\u001b[39m np\u001b[38;5;241m.\u001b[39masarray(vectorize_sentence) \u001b[38;5;241m/\u001b[39m \u001b[38;5;241m3440\u001b[39m\n\u001b[1;32m---> 15\u001b[0m prediciton \u001b[38;5;241m=\u001b[39m \u001b[43mmodel\u001b[49m\u001b[38;5;241;43m.\u001b[39;49m\u001b[43mpredict\u001b[49m\u001b[43m(\u001b[49m\u001b[43mvectorize_sentence\u001b[49m\u001b[43m)\u001b[49m\n\u001b[0;32m     17\u001b[0m \u001b[38;5;28;01mreturn\u001b[39;00m prediciton\n",
      "File \u001b[1;32m~\\AppData\\Local\\Programs\\Python\\Python310\\lib\\site-packages\\keras\\utils\\traceback_utils.py:67\u001b[0m, in \u001b[0;36mfilter_traceback.<locals>.error_handler\u001b[1;34m(*args, **kwargs)\u001b[0m\n\u001b[0;32m     65\u001b[0m \u001b[38;5;28;01mexcept\u001b[39;00m \u001b[38;5;167;01mException\u001b[39;00m \u001b[38;5;28;01mas\u001b[39;00m e:  \u001b[38;5;66;03m# pylint: disable=broad-except\u001b[39;00m\n\u001b[0;32m     66\u001b[0m   filtered_tb \u001b[38;5;241m=\u001b[39m _process_traceback_frames(e\u001b[38;5;241m.\u001b[39m__traceback__)\n\u001b[1;32m---> 67\u001b[0m   \u001b[38;5;28;01mraise\u001b[39;00m e\u001b[38;5;241m.\u001b[39mwith_traceback(filtered_tb) \u001b[38;5;28;01mfrom\u001b[39;00m \u001b[38;5;28mNone\u001b[39m\n\u001b[0;32m     68\u001b[0m \u001b[38;5;28;01mfinally\u001b[39;00m:\n\u001b[0;32m     69\u001b[0m   \u001b[38;5;28;01mdel\u001b[39;00m filtered_tb\n",
      "File \u001b[1;32m~\\AppData\\Local\\Programs\\Python\\Python310\\lib\\site-packages\\tensorflow\\python\\framework\\func_graph.py:1147\u001b[0m, in \u001b[0;36mfunc_graph_from_py_func.<locals>.autograph_handler\u001b[1;34m(*args, **kwargs)\u001b[0m\n\u001b[0;32m   1145\u001b[0m \u001b[38;5;28;01mexcept\u001b[39;00m \u001b[38;5;167;01mException\u001b[39;00m \u001b[38;5;28;01mas\u001b[39;00m e:  \u001b[38;5;66;03m# pylint:disable=broad-except\u001b[39;00m\n\u001b[0;32m   1146\u001b[0m   \u001b[38;5;28;01mif\u001b[39;00m \u001b[38;5;28mhasattr\u001b[39m(e, \u001b[38;5;124m\"\u001b[39m\u001b[38;5;124mag_error_metadata\u001b[39m\u001b[38;5;124m\"\u001b[39m):\n\u001b[1;32m-> 1147\u001b[0m     \u001b[38;5;28;01mraise\u001b[39;00m e\u001b[38;5;241m.\u001b[39mag_error_metadata\u001b[38;5;241m.\u001b[39mto_exception(e)\n\u001b[0;32m   1148\u001b[0m   \u001b[38;5;28;01melse\u001b[39;00m:\n\u001b[0;32m   1149\u001b[0m     \u001b[38;5;28;01mraise\u001b[39;00m\n",
      "\u001b[1;31mValueError\u001b[0m: in user code:\n\n    File \"C:\\Users\\pc\\AppData\\Local\\Programs\\Python\\Python310\\lib\\site-packages\\keras\\engine\\training.py\", line 1801, in predict_function  *\n        return step_function(self, iterator)\n    File \"C:\\Users\\pc\\AppData\\Local\\Programs\\Python\\Python310\\lib\\site-packages\\keras\\engine\\training.py\", line 1790, in step_function  **\n        outputs = model.distribute_strategy.run(run_step, args=(data,))\n    File \"C:\\Users\\pc\\AppData\\Local\\Programs\\Python\\Python310\\lib\\site-packages\\keras\\engine\\training.py\", line 1783, in run_step  **\n        outputs = model.predict_step(data)\n    File \"C:\\Users\\pc\\AppData\\Local\\Programs\\Python\\Python310\\lib\\site-packages\\keras\\engine\\training.py\", line 1751, in predict_step\n        return self(x, training=False)\n    File \"C:\\Users\\pc\\AppData\\Local\\Programs\\Python\\Python310\\lib\\site-packages\\keras\\utils\\traceback_utils.py\", line 67, in error_handler\n        raise e.with_traceback(filtered_tb) from None\n    File \"C:\\Users\\pc\\AppData\\Local\\Programs\\Python\\Python310\\lib\\site-packages\\keras\\engine\\input_spec.py\", line 228, in assert_input_compatibility\n        raise ValueError(f'Input {input_index} of layer \"{layer_name}\" '\n\n    ValueError: Exception encountered when calling layer \"sequential\" (type Sequential).\n    \n    Input 0 of layer \"dense\" is incompatible with the layer: expected min_ndim=2, found ndim=1. Full shape received: (None,)\n    \n    Call arguments received:\n      • inputs=tf.Tensor(shape=(None,), dtype=float32)\n      • training=False\n      • mask=None\n"
     ]
    }
   ],
   "source": [
    "prediction = model_prediciton(model=model, sentence=my_sentence)\n",
    "\n",
    "if prediction[0][0] > .5:print('Sentence indicate depression with {}% probability'.format(np.round(100*prediction[0][0], 2)))\n",
    "else:print('Probability of depression is only {}%'.format(np.round(100*prediction[0][0], 2)))"
   ]
  }
 ],
 "metadata": {
  "kernelspec": {
   "display_name": "Python 3 (ipykernel)",
   "language": "python",
   "name": "python3"
  },
  "language_info": {
   "codemirror_mode": {
    "name": "ipython",
    "version": 3
   },
   "file_extension": ".py",
   "mimetype": "text/x-python",
   "name": "python",
   "nbconvert_exporter": "python",
   "pygments_lexer": "ipython3",
   "version": "3.10.2"
  }
 },
 "nbformat": 4,
 "nbformat_minor": 5
}
