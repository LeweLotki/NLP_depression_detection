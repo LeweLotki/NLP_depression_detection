{
 "cells": [
  {
   "cell_type": "markdown",
   "id": "cdebcb8e",
   "metadata": {},
   "source": [
    "# AI chatbot for depression detection"
   ]
  },
  {
   "cell_type": "markdown",
   "id": "14bd40fa",
   "metadata": {},
   "source": [
    "### Importing modules"
   ]
  },
  {
   "cell_type": "code",
   "execution_count": 1,
   "id": "58a06b83",
   "metadata": {},
   "outputs": [],
   "source": [
    "import tensorflow as tf\n",
    "import pandas as pd\n",
    "import matplotlib.pyplot as plt\n",
    "import numpy as np\n",
    "import sklearn as sk\n",
    "import seaborn as sns"
   ]
  },
  {
   "cell_type": "markdown",
   "id": "e2280bdb",
   "metadata": {},
   "source": [
    "### Gathering data"
   ]
  },
  {
   "cell_type": "code",
   "execution_count": 2,
   "id": "6e7cac58",
   "metadata": {},
   "outputs": [],
   "source": [
    "df = pd.read_csv('data.csv')\n",
    "# Standarize columns names\n",
    "df = df.rename(columns={'clean_text': 'text', 'is_depression':'label'})"
   ]
  },
  {
   "cell_type": "code",
   "execution_count": 3,
   "id": "9bdc3df9",
   "metadata": {},
   "outputs": [
    {
     "data": {
      "text/html": [
       "<div>\n",
       "<style scoped>\n",
       "    .dataframe tbody tr th:only-of-type {\n",
       "        vertical-align: middle;\n",
       "    }\n",
       "\n",
       "    .dataframe tbody tr th {\n",
       "        vertical-align: top;\n",
       "    }\n",
       "\n",
       "    .dataframe thead th {\n",
       "        text-align: right;\n",
       "    }\n",
       "</style>\n",
       "<table border=\"1\" class=\"dataframe\">\n",
       "  <thead>\n",
       "    <tr style=\"text-align: right;\">\n",
       "      <th></th>\n",
       "      <th>text</th>\n",
       "      <th>label</th>\n",
       "    </tr>\n",
       "  </thead>\n",
       "  <tbody>\n",
       "    <tr>\n",
       "      <th>0</th>\n",
       "      <td>we understand that most people who reply immed...</td>\n",
       "      <td>1</td>\n",
       "    </tr>\n",
       "    <tr>\n",
       "      <th>1</th>\n",
       "      <td>welcome to r depression s check in post a plac...</td>\n",
       "      <td>1</td>\n",
       "    </tr>\n",
       "    <tr>\n",
       "      <th>2</th>\n",
       "      <td>anyone else instead of sleeping more when depr...</td>\n",
       "      <td>1</td>\n",
       "    </tr>\n",
       "    <tr>\n",
       "      <th>3</th>\n",
       "      <td>i ve kind of stuffed around a lot in my life d...</td>\n",
       "      <td>1</td>\n",
       "    </tr>\n",
       "    <tr>\n",
       "      <th>4</th>\n",
       "      <td>sleep is my greatest and most comforting escap...</td>\n",
       "      <td>1</td>\n",
       "    </tr>\n",
       "  </tbody>\n",
       "</table>\n",
       "</div>"
      ],
      "text/plain": [
       "                                                text  label\n",
       "0  we understand that most people who reply immed...      1\n",
       "1  welcome to r depression s check in post a plac...      1\n",
       "2  anyone else instead of sleeping more when depr...      1\n",
       "3  i ve kind of stuffed around a lot in my life d...      1\n",
       "4  sleep is my greatest and most comforting escap...      1"
      ]
     },
     "execution_count": 3,
     "metadata": {},
     "output_type": "execute_result"
    }
   ],
   "source": [
    "df.head()"
   ]
  },
  {
   "cell_type": "code",
   "execution_count": 4,
   "id": "707b8ab8",
   "metadata": {},
   "outputs": [
    {
     "data": {
      "text/plain": [
       "(7731, 2)"
      ]
     },
     "execution_count": 4,
     "metadata": {},
     "output_type": "execute_result"
    }
   ],
   "source": [
    "df.shape"
   ]
  },
  {
   "cell_type": "markdown",
   "id": "453619de",
   "metadata": {},
   "source": [
    "### Preprocessing and tokenizing data"
   ]
  },
  {
   "cell_type": "code",
   "execution_count": 5,
   "id": "0c22c0d1",
   "metadata": {},
   "outputs": [
    {
     "name": "stderr",
     "output_type": "stream",
     "text": [
      "[nltk_data] Downloading package stopwords to\n",
      "[nltk_data]     C:\\Users\\pc\\AppData\\Roaming\\nltk_data...\n",
      "[nltk_data]   Package stopwords is already up-to-date!\n",
      "[nltk_data] Downloading package wordnet to\n",
      "[nltk_data]     C:\\Users\\pc\\AppData\\Roaming\\nltk_data...\n",
      "[nltk_data]   Package wordnet is already up-to-date!\n",
      "[nltk_data] Downloading package omw-1.4 to\n",
      "[nltk_data]     C:\\Users\\pc\\AppData\\Roaming\\nltk_data...\n",
      "[nltk_data]   Package omw-1.4 is already up-to-date!\n",
      "[nltk_data] Downloading package punkt to\n",
      "[nltk_data]     C:\\Users\\pc\\AppData\\Roaming\\nltk_data...\n",
      "[nltk_data]   Package punkt is already up-to-date!\n"
     ]
    },
    {
     "data": {
      "text/plain": [
       "True"
      ]
     },
     "execution_count": 5,
     "metadata": {},
     "output_type": "execute_result"
    }
   ],
   "source": [
    "import nltk\n",
    "from nltk.tokenize import RegexpTokenizer\n",
    "from nltk.stem import WordNetLemmatizer,PorterStemmer\n",
    "from nltk.corpus import stopwords\n",
    "import re\n",
    "\n",
    "nltk.download('stopwords')\n",
    "nltk.download('wordnet')\n",
    "nltk.download('omw-1.4')\n",
    "nltk.download('punkt')"
   ]
  },
  {
   "cell_type": "code",
   "execution_count": 6,
   "id": "e7b330de",
   "metadata": {},
   "outputs": [],
   "source": [
    "def preprocess(sentence):\n",
    "    \n",
    "    sentence=str(sentence)\n",
    "    sentence = sentence.lower()\n",
    "    sentence=sentence.replace('{html}',\"\") \n",
    "    cleanr = re.compile('<.*?>')\n",
    "    cleantext = re.sub(cleanr, '', sentence)\n",
    "    rem_url=re.sub(r'http\\S+', '',cleantext)\n",
    "    rem_num = re.sub('[0-9]+', '', rem_url)\n",
    "    tokenizer = RegexpTokenizer(r'\\w+')\n",
    "    tokens = tokenizer.tokenize(rem_num)  \n",
    "    filtered_words = [w for w in tokens if len(w) in range(3,14) if not w in stopwords.words('english')]\n",
    "\n",
    "    # return None is sentence have only one word\n",
    "    if \" \".join(filtered_words).count(\" \") == 0: return\n",
    "    return \" \".join(filtered_words)\n",
    "\n",
    "\n",
    "df['clean_text'] = df['text'].map(lambda s:preprocess(s)) "
   ]
  },
  {
   "cell_type": "code",
   "execution_count": 7,
   "id": "f2683a74",
   "metadata": {},
   "outputs": [
    {
     "data": {
      "text/html": [
       "<div>\n",
       "<style scoped>\n",
       "    .dataframe tbody tr th:only-of-type {\n",
       "        vertical-align: middle;\n",
       "    }\n",
       "\n",
       "    .dataframe tbody tr th {\n",
       "        vertical-align: top;\n",
       "    }\n",
       "\n",
       "    .dataframe thead th {\n",
       "        text-align: right;\n",
       "    }\n",
       "</style>\n",
       "<table border=\"1\" class=\"dataframe\">\n",
       "  <thead>\n",
       "    <tr style=\"text-align: right;\">\n",
       "      <th></th>\n",
       "      <th>text</th>\n",
       "      <th>label</th>\n",
       "      <th>clean_text</th>\n",
       "    </tr>\n",
       "  </thead>\n",
       "  <tbody>\n",
       "    <tr>\n",
       "      <th>0</th>\n",
       "      <td>we understand that most people who reply immed...</td>\n",
       "      <td>1</td>\n",
       "      <td>understand people reply immediately invitation...</td>\n",
       "    </tr>\n",
       "    <tr>\n",
       "      <th>1</th>\n",
       "      <td>welcome to r depression s check in post a plac...</td>\n",
       "      <td>1</td>\n",
       "      <td>welcome depression check post place take momen...</td>\n",
       "    </tr>\n",
       "    <tr>\n",
       "      <th>2</th>\n",
       "      <td>anyone else instead of sleeping more when depr...</td>\n",
       "      <td>1</td>\n",
       "      <td>anyone else instead sleeping depressed stay ni...</td>\n",
       "    </tr>\n",
       "    <tr>\n",
       "      <th>3</th>\n",
       "      <td>i ve kind of stuffed around a lot in my life d...</td>\n",
       "      <td>1</td>\n",
       "      <td>kind stuffed around lot life delaying inevitab...</td>\n",
       "    </tr>\n",
       "    <tr>\n",
       "      <th>4</th>\n",
       "      <td>sleep is my greatest and most comforting escap...</td>\n",
       "      <td>1</td>\n",
       "      <td>sleep greatest comforting escape whenever wake...</td>\n",
       "    </tr>\n",
       "  </tbody>\n",
       "</table>\n",
       "</div>"
      ],
      "text/plain": [
       "                                                text  label  \\\n",
       "0  we understand that most people who reply immed...      1   \n",
       "1  welcome to r depression s check in post a plac...      1   \n",
       "2  anyone else instead of sleeping more when depr...      1   \n",
       "3  i ve kind of stuffed around a lot in my life d...      1   \n",
       "4  sleep is my greatest and most comforting escap...      1   \n",
       "\n",
       "                                          clean_text  \n",
       "0  understand people reply immediately invitation...  \n",
       "1  welcome depression check post place take momen...  \n",
       "2  anyone else instead sleeping depressed stay ni...  \n",
       "3  kind stuffed around lot life delaying inevitab...  \n",
       "4  sleep greatest comforting escape whenever wake...  "
      ]
     },
     "execution_count": 7,
     "metadata": {},
     "output_type": "execute_result"
    }
   ],
   "source": [
    "# dropping empty rows\n",
    "df = df.dropna()\n",
    "df.head()"
   ]
  },
  {
   "cell_type": "markdown",
   "id": "0ffd8290",
   "metadata": {},
   "source": [
    "### Stemming data"
   ]
  },
  {
   "cell_type": "code",
   "execution_count": 8,
   "id": "cf820a37",
   "metadata": {},
   "outputs": [],
   "source": [
    "from nltk.stem import PorterStemmer\n",
    "\n",
    "ps = PorterStemmer()\n",
    "\n",
    "def stemming(sentence):\n",
    "    \n",
    "    stem_sentence = [ps.stem(word) for word in sentence.split()]\n",
    "    return ' '.join(stem_sentence)\n",
    "\n",
    "df['stem_text'] = df['clean_text'].map(lambda s:stemming(s)) "
   ]
  },
  {
   "cell_type": "code",
   "execution_count": 9,
   "id": "cfddd4e1",
   "metadata": {},
   "outputs": [
    {
     "data": {
      "text/html": [
       "<div>\n",
       "<style scoped>\n",
       "    .dataframe tbody tr th:only-of-type {\n",
       "        vertical-align: middle;\n",
       "    }\n",
       "\n",
       "    .dataframe tbody tr th {\n",
       "        vertical-align: top;\n",
       "    }\n",
       "\n",
       "    .dataframe thead th {\n",
       "        text-align: right;\n",
       "    }\n",
       "</style>\n",
       "<table border=\"1\" class=\"dataframe\">\n",
       "  <thead>\n",
       "    <tr style=\"text-align: right;\">\n",
       "      <th></th>\n",
       "      <th>text</th>\n",
       "      <th>label</th>\n",
       "      <th>clean_text</th>\n",
       "      <th>stem_text</th>\n",
       "    </tr>\n",
       "  </thead>\n",
       "  <tbody>\n",
       "    <tr>\n",
       "      <th>0</th>\n",
       "      <td>we understand that most people who reply immed...</td>\n",
       "      <td>1</td>\n",
       "      <td>understand people reply immediately invitation...</td>\n",
       "      <td>understand peopl repli immedi invit talk priva...</td>\n",
       "    </tr>\n",
       "    <tr>\n",
       "      <th>1</th>\n",
       "      <td>welcome to r depression s check in post a plac...</td>\n",
       "      <td>1</td>\n",
       "      <td>welcome depression check post place take momen...</td>\n",
       "      <td>welcom depress check post place take moment sh...</td>\n",
       "    </tr>\n",
       "    <tr>\n",
       "      <th>2</th>\n",
       "      <td>anyone else instead of sleeping more when depr...</td>\n",
       "      <td>1</td>\n",
       "      <td>anyone else instead sleeping depressed stay ni...</td>\n",
       "      <td>anyon els instead sleep depress stay night avo...</td>\n",
       "    </tr>\n",
       "    <tr>\n",
       "      <th>3</th>\n",
       "      <td>i ve kind of stuffed around a lot in my life d...</td>\n",
       "      <td>1</td>\n",
       "      <td>kind stuffed around lot life delaying inevitab...</td>\n",
       "      <td>kind stuf around lot life delay inevit work jo...</td>\n",
       "    </tr>\n",
       "    <tr>\n",
       "      <th>4</th>\n",
       "      <td>sleep is my greatest and most comforting escap...</td>\n",
       "      <td>1</td>\n",
       "      <td>sleep greatest comforting escape whenever wake...</td>\n",
       "      <td>sleep greatest comfort escap whenev wake day l...</td>\n",
       "    </tr>\n",
       "  </tbody>\n",
       "</table>\n",
       "</div>"
      ],
      "text/plain": [
       "                                                text  label  \\\n",
       "0  we understand that most people who reply immed...      1   \n",
       "1  welcome to r depression s check in post a plac...      1   \n",
       "2  anyone else instead of sleeping more when depr...      1   \n",
       "3  i ve kind of stuffed around a lot in my life d...      1   \n",
       "4  sleep is my greatest and most comforting escap...      1   \n",
       "\n",
       "                                          clean_text  \\\n",
       "0  understand people reply immediately invitation...   \n",
       "1  welcome depression check post place take momen...   \n",
       "2  anyone else instead sleeping depressed stay ni...   \n",
       "3  kind stuffed around lot life delaying inevitab...   \n",
       "4  sleep greatest comforting escape whenever wake...   \n",
       "\n",
       "                                           stem_text  \n",
       "0  understand peopl repli immedi invit talk priva...  \n",
       "1  welcom depress check post place take moment sh...  \n",
       "2  anyon els instead sleep depress stay night avo...  \n",
       "3  kind stuf around lot life delay inevit work jo...  \n",
       "4  sleep greatest comfort escap whenev wake day l...  "
      ]
     },
     "execution_count": 9,
     "metadata": {},
     "output_type": "execute_result"
    }
   ],
   "source": [
    "df.head()"
   ]
  },
  {
   "cell_type": "code",
   "execution_count": 10,
   "id": "69fd48c7",
   "metadata": {},
   "outputs": [],
   "source": [
    "df.to_csv('stem_data.csv')"
   ]
  },
  {
   "cell_type": "code",
   "execution_count": 11,
   "id": "adcc83cd",
   "metadata": {},
   "outputs": [
    {
     "data": {
      "text/plain": [
       "1782"
      ]
     },
     "execution_count": 11,
     "metadata": {},
     "output_type": "execute_result"
    }
   ],
   "source": [
    "longest_tweet = 0\n",
    "sentences_len = []\n",
    "for sentence in df['stem_text']: \n",
    "    sentence_len = \" \".join(sentence.split()).count(\" \")\n",
    "    sentences_len.append(sentence_len)\n",
    "    if longest_tweet < sentence_len:\n",
    "        longest_tweet = sentence_len\n",
    "longest_tweet"
   ]
  },
  {
   "cell_type": "markdown",
   "id": "949d3c26",
   "metadata": {},
   "source": [
    "Longest tweet in this dataset contains 1785 words."
   ]
  },
  {
   "cell_type": "code",
   "execution_count": 12,
   "id": "edeb5364",
   "metadata": {},
   "outputs": [
    {
     "data": {
      "text/plain": [
       "<AxesSubplot:ylabel='Frequency'>"
      ]
     },
     "execution_count": 12,
     "metadata": {},
     "output_type": "execute_result"
    },
    {
     "data": {
      "image/png": "[encoded data removed]",
      "text/plain": [
       "<Figure size 640x480 with 1 Axes>"
      ]
     },
     "metadata": {},
     "output_type": "display_data"
    }
   ],
   "source": [
    "pd.DataFrame(sentences_len).plot.hist(bins=1000, grid=False, xlim=(0,250))"
   ]
  },
  {
   "cell_type": "markdown",
   "id": "67bd6481",
   "metadata": {},
   "source": [
    "Distribution of length of data(limited to 250)."
   ]
  },
  {
   "cell_type": "markdown",
   "id": "799a2032",
   "metadata": {},
   "source": [
    "Average length dominant, std of post:"
   ]
  },
  {
   "cell_type": "code",
   "execution_count": 45,
   "id": "c77fb5ad",
   "metadata": {},
   "outputs": [
    {
     "name": "stdout",
     "output_type": "stream",
     "text": [
      "avg: 32.072319201995015\n",
      "dominant: 5\n",
      "std: 61.12474163690561\n",
      "standard_len: 155\n"
     ]
    }
   ],
   "source": [
    "avg = np.average(np.asarray(sentences_len))\n",
    "print('avg: {}'.format(avg))\n",
    "\n",
    "counts = np.bincount(np.asarray(sentences_len))\n",
    "print('dominant: {}'.format(np.argmax(counts)))\n",
    "\n",
    "std = np.std(np.asarray(sentences_len))\n",
    "print('std: {}'.format(std))\n",
    "\n",
    "standard_len = int(np.ceil(avg + 2*std))\n",
    "print('standard_len: {}'.format(standard_len))"
   ]
  },
  {
   "cell_type": "markdown",
   "id": "656a557e",
   "metadata": {},
   "source": [
    "I will assume standard length as 155"
   ]
  },
  {
   "cell_type": "markdown",
   "id": "9b417088",
   "metadata": {},
   "source": [
    "### Counting words"
   ]
  },
  {
   "cell_type": "code",
   "execution_count": 21,
   "id": "9c4af4c9",
   "metadata": {},
   "outputs": [],
   "source": [
    "counts = df[\"stem_text\"].str.findall(r\"(\\w+)\").explode().value_counts()\n",
    "counts = counts.nlargest(10)"
   ]
  },
  {
   "cell_type": "code",
   "execution_count": 18,
   "id": "471120a4",
   "metadata": {},
   "outputs": [
    {
     "data": {
      "image/png": "[encoded data removed]",
      "text/plain": [
       "<Figure size 600x500 with 1 Axes>"
      ]
     },
     "metadata": {},
     "output_type": "display_data"
    }
   ],
   "source": [
    "fig, ax = plt.subplots(figsize=(6,5))\n",
    "sns.barplot(x=counts.index, y=counts.values, ax=ax)\n",
    "ax.set_ylabel('Number of Occurrences', fontsize=12)\n",
    "ax.set_xlabel('Word', fontsize=12)\n",
    "ax.xaxis.set_tick_params(rotation=90)"
   ]
  },
  {
   "cell_type": "code",
   "execution_count": 22,
   "id": "062ea244",
   "metadata": {},
   "outputs": [
    {
     "data": {
      "text/plain": [
       "14138"
      ]
     },
     "execution_count": 22,
     "metadata": {},
     "output_type": "execute_result"
    }
   ],
   "source": [
    "len(counts)"
   ]
  },
  {
   "cell_type": "markdown",
   "id": "45811176",
   "metadata": {},
   "source": [
    "There is 14138 word in this dataset"
   ]
  },
  {
   "cell_type": "code",
   "execution_count": 23,
   "id": "894233bc",
   "metadata": {},
   "outputs": [
    {
     "name": "stdout",
     "output_type": "stream",
     "text": [
      "3440\n"
     ]
    }
   ],
   "source": [
    "for idx, freq in enumerate(counts):\n",
    "    if freq < 5:\n",
    "        print(idx)\n",
    "        break"
   ]
  },
  {
   "cell_type": "markdown",
   "id": "302804fc",
   "metadata": {},
   "source": [
    "Only 3440 first word occurent more than 4 times in this dataset"
   ]
  },
  {
   "cell_type": "markdown",
   "id": "e94c0c0d",
   "metadata": {},
   "source": [
    "### Vectorizing words"
   ]
  },
  {
   "cell_type": "code",
   "execution_count": 24,
   "id": "d5fc744f",
   "metadata": {},
   "outputs": [],
   "source": [
    "from nltk import word_tokenize\n",
    "from collections import defaultdict\n",
    "\n",
    "def count_top_x_words(corpus, top_x, skip_top_n):\n",
    "    count = defaultdict(lambda: 0)\n",
    "    for c in corpus:\n",
    "        for w in word_tokenize(c):\n",
    "            count[w] += 1\n",
    "    count_tuples = sorted([(w, c) for w, c in count.items()], key=lambda x: x[1], reverse=True)\n",
    "    return [i[0] for i in count_tuples[skip_top_n: skip_top_n + top_x]]\n",
    "\n",
    "\n",
    "def replace_top_x_words_with_vectors(corpus, top_x):\n",
    "    topx_dict = {top_x[i]: i for i in range(len(top_x))}\n",
    "\n",
    "    return [\n",
    "        [topx_dict[w] for w in word_tokenize(s) if w in topx_dict]\n",
    "        for s in corpus\n",
    "    ], topx_dict\n",
    "\n",
    "\n",
    "def filter_to_top_x(corpus, n_top, skip_n_top=0):\n",
    "    top_x = count_top_x_words(corpus, n_top, skip_n_top)\n",
    "    return replace_top_x_words_with_vectors(corpus, top_x)"
   ]
  },
  {
   "cell_type": "code",
   "execution_count": 25,
   "id": "ea9912ca",
   "metadata": {},
   "outputs": [],
   "source": [
    "text_list = df['stem_text'].tolist()\n",
    "number_of_words = 3440\n",
    "mapped_list, word_list = filter_to_top_x(text_list, number_of_words)"
   ]
  },
  {
   "cell_type": "code",
   "execution_count": 26,
   "id": "b79ca4e4",
   "metadata": {},
   "outputs": [
    {
     "data": {
      "text/plain": [
       "['feel', 'like', 'get', 'want', 'know']"
      ]
     },
     "execution_count": 26,
     "metadata": {},
     "output_type": "execute_result"
    }
   ],
   "source": [
    "# mapped_list\n",
    "list(word_list)[0:5]"
   ]
  },
  {
   "cell_type": "markdown",
   "id": "0e32d0fe",
   "metadata": {},
   "source": [
    "### Creating training and testing dataset"
   ]
  },
  {
   "cell_type": "code",
   "execution_count": 27,
   "id": "8ce6f147",
   "metadata": {},
   "outputs": [],
   "source": [
    "tf.random.set_seed(\n",
    "                seed=0\n",
    ")"
   ]
  },
  {
   "cell_type": "code",
   "execution_count": 28,
   "id": "413624d2",
   "metadata": {},
   "outputs": [],
   "source": [
    "from sklearn.model_selection import train_test_split\n",
    "from tensorflow.keras.preprocessing import sequence\n",
    "from tensorflow.keras.utils import normalize\n",
    "\n",
    "labels = np.asarray(df['label'].tolist()).astype('float64')\n",
    "\n",
    "max_text_length = standard_len # based on the statistic deviation\n",
    "mapped_list = sequence.pad_sequences(mapped_list, maxlen=max_text_length)\n",
    "\n",
    "# Normalizing by division\n",
    "mapped_list = mapped_list / number_of_words\n",
    "\n",
    "x_train, x_test, y_train, y_test = train_test_split(mapped_list, labels, test_size=0.3)"
   ]
  },
  {
   "cell_type": "code",
   "execution_count": 29,
   "id": "24e1b4b5",
   "metadata": {},
   "outputs": [
    {
     "data": {
      "text/plain": [
       "array([[<AxesSubplot:title={'center':'0'}>]], dtype=object)"
      ]
     },
     "execution_count": 29,
     "metadata": {},
     "output_type": "execute_result"
    },
    {
     "data": {
      "image/png": "[encoded data removed]",
      "text/plain": [
       "<Figure size 640x480 with 1 Axes>"
      ]
     },
     "metadata": {},
     "output_type": "display_data"
    }
   ],
   "source": [
    "pd.DataFrame(labels).hist(bins=2, grid=False)"
   ]
  },
  {
   "cell_type": "markdown",
   "id": "e5702b66",
   "metadata": {},
   "source": [
    "Dataset is extremely balanced"
   ]
  },
  {
   "cell_type": "code",
   "execution_count": 30,
   "id": "9447e62c",
   "metadata": {},
   "outputs": [
    {
     "data": {
      "text/plain": [
       "array([2.98837209e-01, 1.66569767e-01, 2.51744186e-01, 3.48837209e-03,\n",
       "       1.10465116e-02, 9.59302326e-03, 1.29651163e-01, 4.06976744e-01,\n",
       "       1.16279070e-03, 2.98837209e-01, 6.88372093e-01, 8.19767442e-02,\n",
       "       8.72093023e-04, 4.94186047e-03, 9.30232558e-03, 1.16279070e-03,\n",
       "       7.64534884e-02, 2.67151163e-01, 2.54941860e-01, 2.90697674e-03,\n",
       "       2.38372093e-02, 4.94186047e-03, 1.01453488e-01, 1.65697674e-02,\n",
       "       2.32558140e-03, 9.47674419e-02, 1.22674419e-01, 2.20348837e-01,\n",
       "       5.31976744e-02, 4.65116279e-03, 8.36627907e-01, 3.19767442e-03,\n",
       "       2.62500000e-01, 3.13662791e-01, 4.96220930e-01, 4.15697674e-01,\n",
       "       5.27616279e-01, 3.89534884e-02, 1.60174419e-01, 2.32558140e-03,\n",
       "       8.80813953e-02, 1.18604651e-01, 7.52906977e-02, 5.31976744e-02,\n",
       "       1.01744186e-02, 3.16860465e-02, 8.33139535e-01, 1.01162791e-01,\n",
       "       1.45348837e-03, 5.31976744e-02, 1.39534884e-02, 3.90988372e-01,\n",
       "       8.60465116e-02, 1.53197674e-01, 5.34883721e-02, 5.15116279e-01,\n",
       "       8.54651163e-02, 5.81395349e-04, 1.37209302e-01, 4.36046512e-03,\n",
       "       1.85465116e-01, 2.90697674e-03, 2.42151163e-01, 1.95930233e-01,\n",
       "       4.78197674e-01, 6.36627907e-02, 4.53488372e-02, 9.24127907e-01,\n",
       "       6.33720930e-02, 3.16860465e-02, 7.78197674e-01, 0.00000000e+00,\n",
       "       2.90697674e-04, 3.37209302e-02, 8.08139535e-02, 1.16279070e-03,\n",
       "       1.29360465e-01, 6.10465116e-03, 5.52325581e-02, 1.35755814e-01,\n",
       "       5.52325581e-03, 1.13372093e-02, 2.70348837e-02, 8.77906977e-02,\n",
       "       1.63662791e-01, 6.56976744e-02, 9.53488372e-02, 1.45348837e-03,\n",
       "       6.80232558e-02, 1.22093023e-02, 6.13372093e-02, 1.36627907e-01,\n",
       "       9.01162791e-03, 1.51162791e-02, 2.61627907e-03, 2.41279070e-02,\n",
       "       4.33139535e-02, 1.74418605e-02, 2.46220930e-01, 9.24418605e-01,\n",
       "       2.61627907e-03, 4.94186047e-02, 1.13372093e-02, 6.94767442e-02,\n",
       "       1.40116279e-01, 6.10465116e-03, 2.18023256e-02, 1.66279070e-01,\n",
       "       8.19767442e-02, 1.27034884e-01, 9.30232558e-03, 3.51744186e-02,\n",
       "       5.81395349e-04, 0.00000000e+00, 4.68895349e-01, 3.50581395e-01,\n",
       "       1.51162791e-02, 2.61627907e-03, 2.04069767e-01, 1.48255814e-02,\n",
       "       5.81395349e-04, 2.51162791e-01, 1.13372093e-02, 5.81395349e-03,\n",
       "       7.38372093e-02, 1.04941860e-01, 9.24709302e-01, 1.33430233e-01,\n",
       "       5.52325581e-02, 5.02906977e-02, 9.88372093e-02, 3.81976744e-01,\n",
       "       5.23255814e-02, 1.33430233e-01, 2.26744186e-02, 5.31976744e-02,\n",
       "       9.59302326e-02, 3.90988372e-01, 6.45639535e-01, 4.75872093e-01,\n",
       "       6.51162791e-02, 1.36627907e-02, 1.74418605e-03, 6.42441860e-02,\n",
       "       6.46220930e-01, 7.26744186e-03, 6.39534884e-03, 1.04360465e-01,\n",
       "       1.39534884e-02, 3.80813953e-02, 2.72674419e-01, 9.65116279e-02,\n",
       "       4.41860465e-02, 1.07558140e-02, 4.21511628e-02])"
      ]
     },
     "execution_count": 30,
     "metadata": {},
     "output_type": "execute_result"
    }
   ],
   "source": [
    "x_train[0]"
   ]
  },
  {
   "cell_type": "markdown",
   "id": "f9db0783",
   "metadata": {},
   "source": [
    "### Creating machine learning model"
   ]
  },
  {
   "cell_type": "code",
   "execution_count": 31,
   "id": "9d1e800c",
   "metadata": {},
   "outputs": [],
   "source": [
    "import tensorflow as tf\n",
    "from tensorflow.keras.models import Sequential\n",
    "from tensorflow.keras.layers import Dense, Conv1D, Flatten, MaxPooling1D, InputLayer\n",
    "from tensorflow.keras.layers import Embedding\n",
    "from tensorflow.keras.optimizers import Adam"
   ]
  },
  {
   "cell_type": "code",
   "execution_count": 109,
   "id": "5126b7f0",
   "metadata": {},
   "outputs": [],
   "source": [
    " class my_model:\n",
    "    \n",
    "    def __init__(self, embedding=0, ker=0, ker_2=0, pool_size=0, strides=0, input_shape=0):\n",
    "        \n",
    "        self.embedding = embedding\n",
    "        self.ker = ker\n",
    "        self.ker_2 = ker_2\n",
    "        self.pool_size = pool_size\n",
    "        self.strides = strides\n",
    "        self.input_shape = input_shape\n",
    "        \n",
    "        \n",
    "    def cnn(self):\n",
    "\n",
    "        model = Sequential()\n",
    "\n",
    "        model.add(Embedding(number_of_words, self.embedding, input_length=self.input_shape))\n",
    "        model.add(Conv1D(self.ker, self.ker_2))\n",
    "#         model.add(MaxPooling1D(pool_size=self.pool_size, strides=self.strides, padding='valid'))                            \n",
    "\n",
    "        model.add(Flatten())\n",
    "            \n",
    "        model.add(Dense(100, activation='relu'))\n",
    "        model.add(Dense(1, activation='sigmoid'))\n",
    "\n",
    "        opt = Adam(learning_rate=1e-2)\n",
    "        model.compile(loss='BinaryCrossentropy', optimizer=opt, metrics=['AUC'])\n",
    "\n",
    "        return model\n",
    "    \n",
    "    def ann(self):\n",
    "\n",
    "        model = Sequential()\n",
    "\n",
    "        model.add(InputLayer(input_shape=(self.input_shape,)))\n",
    "        model.add(Dense(100, activation='relu'))\n",
    "        model.add(Dense(50, activation='relu'))\n",
    "        model.add(Dense(25, activation='relu'))\n",
    "        model.add(Dense(1, activation='sigmoid'))\n",
    "\n",
    "        opt = Adam(learning_rate=1e-2)\n",
    "        model.compile(loss='BinaryCrossentropy', optimizer=opt, metrics=['AUC'])\n",
    "\n",
    "        return model"
   ]
  },
  {
   "cell_type": "code",
   "execution_count": 110,
   "id": "31a5b904",
   "metadata": {},
   "outputs": [
    {
     "name": "stdout",
     "output_type": "stream",
     "text": [
      "Model: \"sequential_16\"\n",
      "_________________________________________________________________\n",
      " Layer (type)                Output Shape              Param #   \n",
      "=================================================================\n",
      " dense_34 (Dense)            (None, 100)               15600     \n",
      "                                                                 \n",
      " dense_35 (Dense)            (None, 50)                5050      \n",
      "                                                                 \n",
      " dense_36 (Dense)            (None, 25)                1275      \n",
      "                                                                 \n",
      " dense_37 (Dense)            (None, 1)                 26        \n",
      "                                                                 \n",
      "=================================================================\n",
      "Total params: 21,951\n",
      "Trainable params: 21,951\n",
      "Non-trainable params: 0\n",
      "_________________________________________________________________\n"
     ]
    }
   ],
   "source": [
    "model = my_model(\n",
    "                embedding=50, \n",
    "                ker=50, \n",
    "                ker_2 = 20,\n",
    "                pool_size=2,\n",
    "                strides=2,\n",
    "                input_shape=standard_len\n",
    ")\n",
    "model = model.ann()\n",
    "model.summary()"
   ]
  },
  {
   "cell_type": "code",
   "execution_count": 111,
   "id": "591e1523",
   "metadata": {},
   "outputs": [
    {
     "name": "stdout",
     "output_type": "stream",
     "text": [
      "Epoch 1/20\n",
      "267/267 [==============================] - 0s 640us/step - loss: 0.3678 - auc: 0.8752\n",
      "Epoch 2/20\n",
      "267/267 [==============================] - 0s 648us/step - loss: 0.3424 - auc: 0.8884\n",
      "Epoch 3/20\n",
      "267/267 [==============================] - 0s 649us/step - loss: 0.3348 - auc: 0.8935\n",
      "Epoch 4/20\n",
      "267/267 [==============================] - 0s 649us/step - loss: 0.3287 - auc: 0.8949\n",
      "Epoch 5/20\n",
      "267/267 [==============================] - 0s 645us/step - loss: 0.3279 - auc: 0.8970\n",
      "Epoch 6/20\n",
      "267/267 [==============================] - 0s 645us/step - loss: 0.3236 - auc: 0.8992\n",
      "Epoch 7/20\n",
      "267/267 [==============================] - 0s 637us/step - loss: 0.3207 - auc: 0.8990\n",
      "Epoch 8/20\n",
      "267/267 [==============================] - 0s 637us/step - loss: 0.3191 - auc: 0.9000\n",
      "Epoch 9/20\n",
      "267/267 [==============================] - 0s 640us/step - loss: 0.3163 - auc: 0.9042\n",
      "Epoch 10/20\n",
      "267/267 [==============================] - 0s 630us/step - loss: 0.3148 - auc: 0.9050\n",
      "Epoch 11/20\n",
      "267/267 [==============================] - 0s 637us/step - loss: 0.3123 - auc: 0.9079\n",
      "Epoch 12/20\n",
      "267/267 [==============================] - 0s 637us/step - loss: 0.3091 - auc: 0.9079\n",
      "Epoch 13/20\n",
      "267/267 [==============================] - 0s 649us/step - loss: 0.3055 - auc: 0.9126\n",
      "Epoch 14/20\n",
      "267/267 [==============================] - 0s 637us/step - loss: 0.3000 - auc: 0.9138\n",
      "Epoch 15/20\n",
      "267/267 [==============================] - 0s 649us/step - loss: 0.3017 - auc: 0.9139\n",
      "Epoch 16/20\n",
      "267/267 [==============================] - 0s 649us/step - loss: 0.2945 - auc: 0.9180\n",
      "Epoch 17/20\n",
      "267/267 [==============================] - 0s 634us/step - loss: 0.2957 - auc: 0.9174\n",
      "Epoch 18/20\n",
      "267/267 [==============================] - 0s 642us/step - loss: 0.2943 - auc: 0.9174\n",
      "Epoch 19/20\n",
      "267/267 [==============================] - 0s 630us/step - loss: 0.2883 - auc: 0.9212\n",
      "Epoch 20/20\n",
      "267/267 [==============================] - 0s 641us/step - loss: 0.2867 - auc: 0.9236\n"
     ]
    }
   ],
   "source": [
    "history = model.fit(x_train, y_train, epochs=20, batch_size=20)"
   ]
  },
  {
   "cell_type": "markdown",
   "id": "14ac5923",
   "metadata": {},
   "source": [
    "### Displaying results"
   ]
  },
  {
   "cell_type": "markdown",
   "id": "665f845f",
   "metadata": {},
   "source": [
    "##### Convergent curve"
   ]
  },
  {
   "cell_type": "code",
   "execution_count": 112,
   "id": "e8a743fe",
   "metadata": {},
   "outputs": [
    {
     "name": "stdout",
     "output_type": "stream",
     "text": [
      "72/72 [==============================] - 0s 543us/step - loss: 0.3463 - auc: 0.9001\n",
      "Test Loss: 0.34625348448753357, Test Accuracy: 0.9000510573387146\n"
     ]
    },
    {
     "data": {
      "image/png": "[encoded data removed]",
      "text/plain": [
       "<Figure size 800x500 with 1 Axes>"
      ]
     },
     "metadata": {},
     "output_type": "display_data"
    }
   ],
   "source": [
    "test_loss, test_acc = model.evaluate(x_test, y_test)\n",
    "print('Test Loss: {}, Test Accuracy: {}'.format(test_loss, test_acc))\n",
    "\n",
    "y_pred = model.predict(x_test)\n",
    "y_class = np.round(y_pred)\n",
    "\n",
    "pd.DataFrame(history.history).plot(figsize=(8,5))\n",
    "plt.show()"
   ]
  },
  {
   "cell_type": "markdown",
   "id": "b0d0661a",
   "metadata": {},
   "source": [
    "##### Confusion matrix"
   ]
  },
  {
   "cell_type": "code",
   "execution_count": 113,
   "id": "ec2fda8f",
   "metadata": {},
   "outputs": [
    {
     "data": {
      "image/png": "[encoded data removed]",
      "text/plain": [
       "<Figure size 1200x800 with 2 Axes>"
      ]
     },
     "metadata": {},
     "output_type": "display_data"
    }
   ],
   "source": [
    "from sklearn.metrics import confusion_matrix\n",
    "from seaborn import heatmap\n",
    "\n",
    "confusion_mtx = confusion_matrix(y_test, y_class)\n",
    "fig, ax = plt.subplots(figsize=(12,8))\n",
    "ax = heatmap(confusion_mtx, annot=True, fmt='d', ax=ax, cmap='Blues')\n",
    "ax.set_xlabel('Prediciton Label')\n",
    "ax.set_ylabel('True Label')\n",
    "ax.set_title('Confusion Matrix')\n",
    "plt.show()"
   ]
  },
  {
   "cell_type": "markdown",
   "id": "c9d27655",
   "metadata": {},
   "source": [
    "### Making prediction"
   ]
  },
  {
   "cell_type": "code",
   "execution_count": 114,
   "id": "9a73b38a",
   "metadata": {},
   "outputs": [],
   "source": [
    "def model_prediciton(model=model, sentence=''):\n",
    "    \n",
    "    sentence = preprocess(sentence)\n",
    "    sentence = stemming(sentence)\n",
    "    vectorize_sentence = []\n",
    "    for word in sentence.split():\n",
    "        if word in word_list:\n",
    "            vectorize_sentence.append(word_list[word])\n",
    "    \n",
    "    while len(vectorize_sentence) < standard_len:vectorize_sentence.insert(0,0) \n",
    "        \n",
    "    # Normalizing sentence\n",
    "#     for idx, word in enumerate(vectorize_sentence):vectorize_sentence[idx] = word / 3440\n",
    "    vectorize_sentence = np.reshape(np.asarray(vectorize_sentence) / number_of_words, (1,155))\n",
    "    \n",
    "    prediciton = model.predict(vectorize_sentence)\n",
    "    \n",
    "    return prediciton"
   ]
  },
  {
   "cell_type": "code",
   "execution_count": 115,
   "id": "9eff19e4",
   "metadata": {},
   "outputs": [],
   "source": [
    "my_sentence = 'Isolation, empty feeling, easily agitated, nothing is interesting anymore, you wanna sleep all the time to forget about living. Eating more than usual when you’re not hungry or not at all and still no hunger. Depression comes in many forms but a constant feeling of emptiness stays usually'"
   ]
  },
  {
   "cell_type": "code",
   "execution_count": 116,
   "id": "a4b70daf",
   "metadata": {},
   "outputs": [
    {
     "name": "stdout",
     "output_type": "stream",
     "text": [
      "Sentence indicate depression with 100.0% probability\n"
     ]
    }
   ],
   "source": [
    "prediction = model_prediciton(model=model, sentence=my_sentence)\n",
    "\n",
    "if prediction[0][0] > .5:print('Sentence indicate depression with {}% probability'.format(np.round(100*prediction[0][0], 2)))\n",
    "else:print('Probability of depression is only {}%'.format(np.round(100*prediction[0][0], 2)))"
   ]
  }
 ],
 "metadata": {
  "kernelspec": {
   "display_name": "Python 3 (ipykernel)",
   "language": "python",
   "name": "python3"
  },
  "language_info": {
   "codemirror_mode": {
    "name": "ipython",
    "version": 3
   },
   "file_extension": ".py",
   "mimetype": "text/x-python",
   "name": "python",
   "nbconvert_exporter": "python",
   "pygments_lexer": "ipython3",
   "version": "3.10.2"
  }
 },
 "nbformat": 4,
 "nbformat_minor": 5
}
